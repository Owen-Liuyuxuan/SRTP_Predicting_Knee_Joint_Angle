{
 "cells": [
  {
   "cell_type": "markdown",
   "metadata": {},
   "source": [
    "# SRTP Measurements in 5_2 ~ 5_3"
   ]
  },
  {
   "cell_type": "code",
   "execution_count": 1,
   "metadata": {},
   "outputs": [
    {
     "name": "stderr",
     "output_type": "stream",
     "text": [
      "c:\\program files\\python36\\lib\\site-packages\\h5py\\__init__.py:36: FutureWarning: Conversion of the second argument of issubdtype from `float` to `np.floating` is deprecated. In future, it will be treated as `np.float64 == np.dtype(float).type`.\n",
      "  from ._conv import register_converters as _register_converters\n"
     ]
    }
   ],
   "source": [
    "import tensorflow as tf\n",
    "import pandas as pd\n",
    "import numpy as np\n",
    "import matplotlib.pyplot as plt\n",
    "import SRTP_Deep_RNN_5_3_Utils as srtp"
   ]
  },
  {
   "cell_type": "code",
   "execution_count": 2,
   "metadata": {
    "collapsed": true
   },
   "outputs": [],
   "source": [
    "data_dict = {}\n",
    "filenum = 19"
   ]
  },
  {
   "cell_type": "code",
   "execution_count": 3,
   "metadata": {},
   "outputs": [
    {
     "name": "stdout",
     "output_type": "stream",
     "text": [
      "(18000, 8)\n",
      "(6634, 8)\n",
      "(29227, 8)\n",
      "(28199, 8)\n",
      "(31133, 8)\n",
      "(26655, 8)\n",
      "(28300, 8)\n",
      "(27090, 8)\n"
     ]
    }
   ],
   "source": [
    "data_dict['data1'] = srtp.read_data(\"SRTP_Measurement_5_2_3\\\\train_JJL_5_2_0.txt\"\n",
    "                               ,row_start = 0,row_end = 18000,column_start = 0, column_end = 8,print_shape = True)\n",
    "\n",
    "data_dict['data2'] = srtp.read_data(\"SRTP_Measurement_5_2_3\\\\train_JJL_5_2_0.txt\"\n",
    "                               ,row_start = 22000,row_end = 50000,column_start = 0, column_end = 8,print_shape = True)\n",
    "\n",
    "data_dict['data3'] = srtp.read_data(\"SRTP_Measurement_5_2_3\\\\train_WTX_5_2_0.txt\"\n",
    "                               ,row_start =0,row_end = 50000,column_start = 0, column_end = 8,print_shape = True)\n",
    "\n",
    "data_dict['data4'] = srtp.read_data(\"SRTP_Measurement_5_2_3\\\\train_WSP_5_3_0.txt\"\n",
    "                               ,row_start =0,row_end = 50000,column_start = 0, column_end = 8,print_shape = True)\n",
    "\n",
    "data_dict['data5'] = srtp.read_data(\"SRTP_Measurement_5_2_3\\\\train_CFW_5_3_0.txt\"\n",
    "                               ,row_start =0,row_end = 50000,column_start = 0, column_end = 8,print_shape = True)\n",
    "\n",
    "data_dict['data6'] = srtp.read_data(\"SRTP_Measurement_5_2_3\\\\train_XXS_5_3_0.txt\"\n",
    "                               ,row_start =0,row_end = 50000,column_start = 0, column_end = 8,print_shape = True)\n",
    "\n",
    "data_dict['data7'] = srtp.read_data(\"SRTP_Measurement_5_2_3\\\\train_WZH_5_3_0.txt\"\n",
    "                               ,row_start =0,row_end = 50000,column_start = 0, column_end = 8,print_shape = True)\n",
    "\n",
    "data_dict['data8'] = srtp.read_data(\"SRTP_Measurement_5_2_3\\\\train_LWJ_5_3_0.txt\"\n",
    "                               ,row_start =0,row_end = 50000,column_start = 0, column_end = 8,print_shape = True)"
   ]
  },
  {
   "cell_type": "code",
   "execution_count": 4,
   "metadata": {},
   "outputs": [
    {
     "name": "stdout",
     "output_type": "stream",
     "text": [
      "(14975, 8)\n",
      "(35283, 7)\n",
      "(25715, 7)\n",
      "(28840, 7)\n",
      "(23802, 7)\n",
      "(23159, 7)\n",
      "(25307, 7)\n",
      "(4000, 7)\n",
      "(31865, 7)\n",
      "(24954, 7)\n",
      "(26397, 7)\n",
      "(31145, 7)\n"
     ]
    }
   ],
   "source": [
    "data_dict['data9'] = srtp.read_data(\"SRTP_Mea_2_2\\\\train_HYC_2_7_0.txt\"\n",
    "                               ,row_start = 0,row_end = None,column_start = 0, column_end = 8,print_shape = True)\n",
    "\n",
    "data_dict['data10'] = srtp.read_data(\"SRTP_Mea_2_2\\\\train_2_7_1.txt\"\n",
    "                               ,row_start = 0,row_end = None,column_start = 0, column_end = 7,print_shape = True)\n",
    "\n",
    "data_dict['data11'] = srtp.read_data(\"SRTP_Mea_2_2\\\\train_2_7_2.txt\"\n",
    "                               ,row_start = 0,row_end = None,column_start = 0, column_end = 7,print_shape = True)\n",
    "\n",
    "data_dict['data12'] = srtp.read_data(\"SRTP_Mea_2_2\\\\train_2_7_3.txt\"\n",
    "                               ,row_start = 0,row_end = None,column_start = 0, column_end = 7,print_shape = True)\n",
    "\n",
    "data_dict['data13'] = srtp.read_data(\"SRTP_Mea_2_2\\\\train_2_7_4.txt\"\n",
    "                               ,row_start = 0,row_end = None,column_start = 0, column_end = 7,print_shape = True)\n",
    "\n",
    "data_dict['data14'] = srtp.read_data(\"SRTP_Mea_2_2\\\\train_2_7_5.txt\"\n",
    "                               ,row_start = 0,row_end = None,column_start = 0, column_end = 7,print_shape = True)\n",
    "\n",
    "data_dict['data15'] = srtp.read_data(\"SRTP_Mea_2_2\\\\train_2_7_6.txt\"\n",
    "                               ,row_start = 0,row_end = None,column_start = 0, column_end = 7,print_shape = True)\n",
    "\n",
    "data_dict['test1'] = srtp.read_data(\"SRTP_Mea_2_2\\\\train_2_7_7.txt\"\n",
    "                               ,row_start = 0,row_end = 4000,column_start = 0, column_end = 7,print_shape = True)\n",
    "\n",
    "data_dict['data16'] = srtp.read_data(\"SRTP_Mea_2_2\\\\train_2_7_8.txt\"\n",
    "                               ,row_start = 0,row_end = None,column_start = 0, column_end = 7,print_shape = True)\n",
    "\n",
    "data_dict['data17'] = srtp.read_data(\"SRTP_Mea_2_2\\\\train_2_7_9.txt\"\n",
    "                               ,row_start = 0,row_end = None,column_start = 0, column_end = 7,print_shape = True)\n",
    "\n",
    "data_dict['data18'] = srtp.read_data(\"SRTP_Mea_2_2\\\\train_2_7_10.txt\"\n",
    "                               ,row_start = 0,row_end = None,column_start = 0, column_end = 7,print_shape = True)\n",
    "\n",
    "data_dict['data19'] = srtp.read_data(\"SRTP_Mea_2_2\\\\train_2_7_11.txt\"\n",
    "                               ,row_start = 0,row_end = None,column_start = 0, column_end = 7,print_shape = True)"
   ]
  },
  {
   "cell_type": "markdown",
   "metadata": {},
   "source": [
    "## Data Preprocessing"
   ]
  },
  {
   "cell_type": "code",
   "execution_count": 5,
   "metadata": {
    "collapsed": true
   },
   "outputs": [],
   "source": [
    "num_periods = 30\n",
    "f_horizon = 5"
   ]
  },
  {
   "cell_type": "code",
   "execution_count": 6,
   "metadata": {
    "collapsed": true
   },
   "outputs": [],
   "source": [
    "mean1 = -80 \n",
    "std1 = 15 \n",
    "meanw1 = 0\n",
    "stdw1 = 75\n",
    "\n",
    "mean2 = -110\n",
    "std2 = 15\n",
    "meanw2 = 0\n",
    "stdw2 = 90\n",
    "\n",
    "meany = 35\n",
    "stdy = 15"
   ]
  },
  {
   "cell_type": "code",
   "execution_count": 7,
   "metadata": {
    "collapsed": true
   },
   "outputs": [],
   "source": [
    "for i in range(1,filenum + 1):\n",
    "    data_dict['normalizeddata' + str(i)] = data_dict['data'+str(i)].copy()\n",
    "    temp1 = data_dict['data' + str(i)][f_horizon:,0]\n",
    "    temp2 = data_dict['data' + str(i)][f_horizon:,2]\n",
    "    data_dict['truey' + str(i)] = (temp1 - temp2).reshape(-1,1)\n",
    "    data_dict['normalizeddata' + str(i)][:,0] = (data_dict['data' + str(i)][:,0] - mean1) / std1\n",
    "    data_dict['normalizeddata' + str(i)][:,1] = (data_dict['data' + str(i)][:,1] - meanw1) / stdw1\n",
    "    data_dict['normalizeddata' + str(i)][:,2] = (data_dict['data' + str(i)][:,2] - mean2) / std2\n",
    "    data_dict['normalizeddata' + str(i)][:,3] = (data_dict['data' + str(i)][:,3] - meanw2) / stdw2\n",
    "    data_dict['normalizeddata' + str(i)][:,4] = data_dict['data' + str(i)][:,4] / 3\n",
    "    data_dict['normalizeddata' + str(i)][:,5] = data_dict['data' + str(i)][:,5] / 3\n",
    "    data_dict['normalizeddata' + str(i)][:,6] = data_dict['data' + str(i)][:,6] / 3"
   ]
  },
  {
   "cell_type": "code",
   "execution_count": 8,
   "metadata": {
    "collapsed": true
   },
   "outputs": [],
   "source": [
    "for i in range(1,filenum + 1):\n",
    "    data_dict['normalizeddata' + str(i)] = data_dict['normalizeddata' + str(i)][:-f_horizon,:]\n",
    "    data_dict['truey' + str(i)] = (data_dict['truey' + str(i)] - meany)/stdy"
   ]
  },
  {
   "cell_type": "code",
   "execution_count": 9,
   "metadata": {
    "scrolled": true
   },
   "outputs": [
    {
     "name": "stdout",
     "output_type": "stream",
     "text": [
      "7474\n",
      "1348\n",
      "11941\n",
      "19839\n",
      "11980\n",
      "12721\n",
      "7444\n",
      "3029\n",
      "6200\n",
      "5600\n",
      "6904\n",
      "3900\n",
      "6264\n",
      "10586\n",
      "10476\n"
     ]
    }
   ],
   "source": [
    "validation_length = 4000;\n",
    "seperate_test_set = [6,8,13,16];\n",
    "test_index = 1;\n",
    "train_index = 1;\n",
    "breakpointset = [None for i in range(filenum)]\n",
    "#breakpointset = [9775,1175,21640,20085,6428,None,15672,None,7388,15838,7947,16380,None,17840,15358,None,17390,8458,16442]\n",
    "breakpointset = [7474,1348,11941,19839,11980,None,12721,None,7444,3029,6200,5600,None,6904,3900,None,6264,10586,10476]\n",
    "for i in range(1,filenum + 1):\n",
    "    if i in seperate_test_set:\n",
    "        breakpoint = None;\n",
    "    elif breakpointset[i-1] is None:\n",
    "        breakpoint = np.random.randint(1100,data_dict['data'+str(i)].shape[0]-1200-validation_length);\n",
    "        print(breakpoint)\n",
    "    else:\n",
    "        breakpoint = breakpointset[i-1]\n",
    "        print(breakpoint)\n",
    "    if breakpoint is None:\n",
    "        data_dict['final_testx' + str(test_index)] = data_dict['normalizeddata' + str(i)].copy()\n",
    "        data_dict['final_testy' + str(test_index)] = data_dict['truey' + str(i)].copy()\n",
    "        test_index += 1\n",
    "    else:\n",
    "        data_dict['testx' + str(train_index)] = data_dict['normalizeddata' + str(i)][breakpoint:breakpoint+validation_length,:].copy()\n",
    "        data_dict['testy' + str(train_index)] = data_dict['truey' + str(i)][breakpoint:breakpoint+validation_length,:].copy()\n",
    "        data_dict['datax' + str(2*train_index - 1)] = data_dict['normalizeddata' + str(i)][:breakpoint,:].copy()\n",
    "        data_dict['datay' + str(2*train_index - 1)] = data_dict['truey' + str(i)][:breakpoint,:].copy()\n",
    "        data_dict['datax' + str(2*train_index)] = data_dict['normalizeddata'+str(i)][breakpoint + validation_length:,:].copy()\n",
    "        data_dict['datay' + str(2*train_index)] = data_dict['truey' + str(i)][breakpoint+validation_length:,:].copy()\n",
    "        train_index += 1\n",
    "train_filenum  = train_index - 1\n",
    "test_filenum = test_index - 1"
   ]
  },
  {
   "cell_type": "code",
   "execution_count": 10,
   "metadata": {},
   "outputs": [
    {
     "data": {
      "text/plain": [
       "15"
      ]
     },
     "execution_count": 10,
     "metadata": {},
     "output_type": "execute_result"
    }
   ],
   "source": [
    "train_filenum"
   ]
  },
  {
   "cell_type": "code",
   "execution_count": 11,
   "metadata": {},
   "outputs": [
    {
     "data": {
      "text/plain": [
       "4"
      ]
     },
     "execution_count": 11,
     "metadata": {},
     "output_type": "execute_result"
    }
   ],
   "source": [
    "test_filenum"
   ]
  },
  {
   "cell_type": "markdown",
   "metadata": {},
   "source": [
    "## Training With Tensorflow Using the new Model"
   ]
  },
  {
   "cell_type": "markdown",
   "metadata": {},
   "source": [
    "'new_5_3_2018_Multipleguys_1_beta_0.00001_ration_1_2'\n",
    "'new_5_3_2018_Multipleguys_1_beta_0.00001_ration_0_2'"
   ]
  },
  {
   "cell_type": "code",
   "execution_count": 28,
   "metadata": {
    "collapsed": true
   },
   "outputs": [],
   "source": [
    "import winsound"
   ]
  },
  {
   "cell_type": "code",
   "execution_count": 29,
   "metadata": {
    "collapsed": true
   },
   "outputs": [],
   "source": [
    "params_list = srtp.train_model(data_dict,is_new = True,ckptname = 'new_5_3_2018_Multipleguys_1_beta_0.00001_ration_0_3',\n",
    "                          learning_rate = 0.01,beta = 0.001,epochs = 1,\n",
    "                          ration = 0.4,cluster_num = 128,filenum = train_filenum,saver_name = None)"
   ]
  },
  {
   "cell_type": "code",
   "execution_count": 12,
   "metadata": {
    "scrolled": false
   },
   "outputs": [
    {
     "name": "stdout",
     "output_type": "stream",
     "text": [
      "WARNING:tensorflow:From c:\\program files\\python36\\lib\\site-packages\\tensorflow\\contrib\\learn\\python\\learn\\datasets\\base.py:198: retry (from tensorflow.contrib.learn.python.learn.datasets.base) is deprecated and will be removed in a future version.\n",
      "Instructions for updating:\n",
      "Use the retry module or similar alternatives.\n",
      "INFO:tensorflow:Restoring parameters from ckptset\\new_5_3_2018_Multipleguys_1_beta_0.00001_ration_0_2\n",
      "0 \tMSE: 0.033980581909418106\n"
     ]
    },
    {
     "ename": "NameError",
     "evalue": "name 'winsound' is not defined",
     "output_type": "error",
     "traceback": [
      "\u001b[1;31m---------------------------------------------------------------------------\u001b[0m",
      "\u001b[1;31mNameError\u001b[0m                                 Traceback (most recent call last)",
      "\u001b[1;32m<ipython-input-12-f2e3c2a3d889>\u001b[0m in \u001b[0;36m<module>\u001b[1;34m()\u001b[0m\n\u001b[0;32m      5\u001b[0m \u001b[1;31m#                         learning_rate = 0.000003,beta = 0.000001,epochs = 10000,\u001b[0m\u001b[1;33m\u001b[0m\u001b[1;33m\u001b[0m\u001b[0m\n\u001b[0;32m      6\u001b[0m \u001b[1;31m#                         ration = 1,cluster_num = 64,filenum = train_filenum,saver_name = None,num_periods = 300)\u001b[0m\u001b[1;33m\u001b[0m\u001b[1;33m\u001b[0m\u001b[0m\n\u001b[1;32m----> 7\u001b[1;33m \u001b[0mwinsound\u001b[0m\u001b[1;33m.\u001b[0m\u001b[0mBeep\u001b[0m\u001b[1;33m(\u001b[0m\u001b[1;36m600\u001b[0m\u001b[1;33m,\u001b[0m\u001b[1;36m1000\u001b[0m\u001b[1;33m)\u001b[0m\u001b[1;33m\u001b[0m\u001b[0m\n\u001b[0m",
      "\u001b[1;31mNameError\u001b[0m: name 'winsound' is not defined"
     ]
    }
   ],
   "source": [
    "params_list = srtp.train_model(data_dict,is_new = False,ckptname = 'new_5_3_2018_Multipleguys_1_beta_0.00001_ration_0_2',\n",
    "                          learning_rate = 0.000003,beta = 0,epochs = 1,\n",
    "                          ration = 0,cluster_num = 128,filenum = train_filenum,saver_name = None,num_periods = 100)\n",
    "#params_list = srtp.train_model(data_dict,is_new = False,ckptname = 'new_5_3_2018_Multipleguys_1_beta_0.00001_ration_1_2',\n",
    "#                         learning_rate = 0.000003,beta = 0.000001,epochs = 10000,\n",
    "#                         ration = 1,cluster_num = 64,filenum = train_filenum,saver_name = None,num_periods = 300)\n",
    "winsound.Beep(600,1000)"
   ]
  },
  {
   "cell_type": "markdown",
   "metadata": {},
   "source": [
    "## Verify in plain Python along with the adaptive algorithms"
   ]
  },
  {
   "cell_type": "markdown",
   "metadata": {},
   "source": [
    "### Total Verification on Training Set"
   ]
  },
  {
   "cell_type": "code",
   "execution_count": 36,
   "metadata": {},
   "outputs": [
    {
     "name": "stdout",
     "output_type": "stream",
     "text": [
      "On Training set\n",
      "0.030769493571398354\n",
      "0.014564863805126357\n"
     ]
    }
   ],
   "source": [
    "srtp.total_verify(params_list,data_dict,train_filenum,\n",
    "                  setting = 'data',start = 1000,end = 50000,\n",
    "                  Q_angle = 0.004,Q_omega = 0.04,R = 1,alpha = 0.0001);"
   ]
  },
  {
   "cell_type": "code",
   "execution_count": 17,
   "metadata": {},
   "outputs": [
    {
     "data": {
      "text/plain": [
       "7.101899175563394"
      ]
     },
     "execution_count": 17,
     "metadata": {},
     "output_type": "execute_result"
    }
   ],
   "source": [
    "0.031563996335837306*225"
   ]
  },
  {
   "cell_type": "markdown",
   "metadata": {},
   "source": [
    "### Total Verification on validation Set"
   ]
  },
  {
   "cell_type": "code",
   "execution_count": 15,
   "metadata": {},
   "outputs": [
    {
     "name": "stdout",
     "output_type": "stream",
     "text": [
      "On Test set:\n",
      "0.03774383367106006\n",
      "0.024071128129880166\n"
     ]
    }
   ],
   "source": [
    "srtp.total_verify(params_list,data_dict,train_filenum,\n",
    "                  setting = 'test',start = 1000,end = 50000,\n",
    "                  Q_angle = 0.004,Q_omega = 0.04,R = 0.00001,alpha = 0.0001);"
   ]
  },
  {
   "cell_type": "code",
   "execution_count": 18,
   "metadata": {},
   "outputs": [
    {
     "data": {
      "text/plain": [
       "8.492362575988514"
      ]
     },
     "execution_count": 18,
     "metadata": {},
     "output_type": "execute_result"
    }
   ],
   "source": [
    "0.03774383367106006*225"
   ]
  },
  {
   "cell_type": "markdown",
   "metadata": {},
   "source": [
    "### Total Verification on seperate test Set"
   ]
  },
  {
   "cell_type": "code",
   "execution_count": 16,
   "metadata": {},
   "outputs": [
    {
     "name": "stdout",
     "output_type": "stream",
     "text": [
      "0.041018623451106094\n",
      "0.020475113728851566\n"
     ]
    }
   ],
   "source": [
    "srtp.total_verify(params_list,data_dict,test_filenum,\n",
    "                  setting = 'final_test',start = 1000,end = 50000,\n",
    "                  Q_angle = 0.004,Q_omega = 0.04,R = 0.00001,alpha = 0.0001);"
   ]
  },
  {
   "cell_type": "code",
   "execution_count": 19,
   "metadata": {},
   "outputs": [
    {
     "data": {
      "text/plain": [
       "9.229190276498871"
      ]
     },
     "execution_count": 19,
     "metadata": {},
     "output_type": "execute_result"
    }
   ],
   "source": [
    "0.041018623451106094*225"
   ]
  },
  {
   "cell_type": "code",
   "execution_count": 13,
   "metadata": {},
   "outputs": [
    {
     "name": "stdout",
     "output_type": "stream",
     "text": [
      "RNN mse: 8.296068170678305\n",
      "RNN normalized mse 0.03687141409190357\n",
      "Fourth order 0.01472598567672228\n"
     ]
    },
    {
     "data": {
      "image/png": "[encoded data removed]",
      "text/plain": [
       "<matplotlib.figure.Figure at 0x34d687c128>"
      ]
     },
     "metadata": {},
     "output_type": "display_data"
    }
   ],
   "source": [
    "#setting = 'test'\n",
    "#index = 10\n",
    "\n",
    "setting = 'final_test'\n",
    "index = 2\n",
    "\n",
    "start = 17000\n",
    "end = start + 500\n",
    "\n",
    "\n",
    "testx = data_dict[setting + 'x' + str(index)][:,:].copy()\n",
    "testy = data_dict[setting + 'y' + str(index)][:,:]\n",
    "srtp.verify_divid_and_join(testx,testy,start,end,\n",
    "                           params_list,1,printout = True,\n",
    "                           Q_angle = 0.004,Q_omega = 0.04,\n",
    "                           R = 0.00001,alpha = 0.00008);"
   ]
  },
  {
   "cell_type": "code",
   "execution_count": 83,
   "metadata": {},
   "outputs": [
    {
     "data": {
      "text/plain": [
       "(1175, 8)"
      ]
     },
     "execution_count": 83,
     "metadata": {},
     "output_type": "execute_result"
    }
   ],
   "source": [
    "data_dict['datax3'].shape"
   ]
  },
  {
   "cell_type": "code",
   "execution_count": 82,
   "metadata": {},
   "outputs": [
    {
     "data": {
      "text/plain": [
       "(1175, 1)"
      ]
     },
     "execution_count": 82,
     "metadata": {},
     "output_type": "execute_result"
    }
   ],
   "source": [
    "data_dict['datay3'].shape"
   ]
  },
  {
   "cell_type": "code",
   "execution_count": null,
   "metadata": {
    "collapsed": true
   },
   "outputs": [],
   "source": []
  }
 ],
 "metadata": {
  "kernelspec": {
   "display_name": "Python 3",
   "language": "python",
   "name": "python3"
  },
  "language_info": {
   "codemirror_mode": {
    "name": "ipython",
    "version": 3
   },
   "file_extension": ".py",
   "mimetype": "text/x-python",
   "name": "python",
   "nbconvert_exporter": "python",
   "pygments_lexer": "ipython3",
   "version": "3.6.2"
  }
 },
 "nbformat": 4,
 "nbformat_minor": 2
}
