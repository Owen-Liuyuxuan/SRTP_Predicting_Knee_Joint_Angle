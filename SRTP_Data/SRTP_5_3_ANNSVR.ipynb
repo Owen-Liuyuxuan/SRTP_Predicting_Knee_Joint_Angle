{
 "cells": [
  {
   "cell_type": "code",
   "execution_count": 1,
   "metadata": {},
   "outputs": [
    {
     "name": "stderr",
     "output_type": "stream",
     "text": [
      "c:\\program files\\python36\\lib\\site-packages\\h5py\\__init__.py:36: FutureWarning: Conversion of the second argument of issubdtype from `float` to `np.floating` is deprecated. In future, it will be treated as `np.float64 == np.dtype(float).type`.\n",
      "  from ._conv import register_converters as _register_converters\n"
     ]
    }
   ],
   "source": [
    "import tensorflow as tf\n",
    "import pandas as pd\n",
    "import numpy as np\n",
    "import matplotlib.pyplot as plt\n",
    "import SRTP_Deep_RNN_5_3_Utils as srtp"
   ]
  },
  {
   "cell_type": "code",
   "execution_count": 2,
   "metadata": {
    "collapsed": true
   },
   "outputs": [],
   "source": [
    "data_dict = {}\n",
    "filenum = 19"
   ]
  },
  {
   "cell_type": "code",
   "execution_count": 3,
   "metadata": {},
   "outputs": [
    {
     "name": "stdout",
     "output_type": "stream",
     "text": [
      "(18000, 8)\n",
      "(6634, 8)\n",
      "(29227, 8)\n",
      "(28199, 8)\n",
      "(31133, 8)\n",
      "(26655, 8)\n",
      "(28300, 8)\n",
      "(27090, 8)\n"
     ]
    }
   ],
   "source": [
    "data_dict['data1'] = srtp.read_data(\"SRTP_Measurement_5_2_3\\\\train_JJL_5_2_0.txt\"\n",
    "                               ,row_start = 0,row_end = 18000,column_start = 0, column_end = 8,print_shape = True)\n",
    "\n",
    "data_dict['data2'] = srtp.read_data(\"SRTP_Measurement_5_2_3\\\\train_JJL_5_2_0.txt\"\n",
    "                               ,row_start = 22000,row_end = 50000,column_start = 0, column_end = 8,print_shape = True)\n",
    "\n",
    "data_dict['data3'] = srtp.read_data(\"SRTP_Measurement_5_2_3\\\\train_WTX_5_2_0.txt\"\n",
    "                               ,row_start =0,row_end = 50000,column_start = 0, column_end = 8,print_shape = True)\n",
    "\n",
    "data_dict['data4'] = srtp.read_data(\"SRTP_Measurement_5_2_3\\\\train_WSP_5_3_0.txt\"\n",
    "                               ,row_start =0,row_end = 50000,column_start = 0, column_end = 8,print_shape = True)\n",
    "\n",
    "data_dict['data5'] = srtp.read_data(\"SRTP_Measurement_5_2_3\\\\train_CFW_5_3_0.txt\"\n",
    "                               ,row_start =0,row_end = 50000,column_start = 0, column_end = 8,print_shape = True)\n",
    "\n",
    "data_dict['data6'] = srtp.read_data(\"SRTP_Measurement_5_2_3\\\\train_XXS_5_3_0.txt\"\n",
    "                               ,row_start =0,row_end = 50000,column_start = 0, column_end = 8,print_shape = True)\n",
    "\n",
    "data_dict['data7'] = srtp.read_data(\"SRTP_Measurement_5_2_3\\\\train_WZH_5_3_0.txt\"\n",
    "                               ,row_start =0,row_end = 50000,column_start = 0, column_end = 8,print_shape = True)\n",
    "\n",
    "data_dict['data8'] = srtp.read_data(\"SRTP_Measurement_5_2_3\\\\train_LWJ_5_3_0.txt\"\n",
    "                               ,row_start =0,row_end = 50000,column_start = 0, column_end = 8,print_shape = True)"
   ]
  },
  {
   "cell_type": "code",
   "execution_count": 4,
   "metadata": {},
   "outputs": [
    {
     "name": "stdout",
     "output_type": "stream",
     "text": [
      "(14975, 8)\n",
      "(35283, 7)\n",
      "(25715, 7)\n",
      "(28840, 7)\n",
      "(23802, 7)\n",
      "(23159, 7)\n",
      "(25307, 7)\n",
      "(4000, 7)\n",
      "(31865, 7)\n",
      "(24954, 7)\n",
      "(26397, 7)\n",
      "(31145, 7)\n"
     ]
    }
   ],
   "source": [
    "data_dict['data9'] = srtp.read_data(\"SRTP_Mea_2_2\\\\train_HYC_2_7_0.txt\"\n",
    "                               ,row_start = 0,row_end = None,column_start = 0, column_end = 8,print_shape = True)\n",
    "\n",
    "data_dict['data10'] = srtp.read_data(\"SRTP_Mea_2_2\\\\train_2_7_1.txt\"\n",
    "                               ,row_start = 0,row_end = None,column_start = 0, column_end = 7,print_shape = True)\n",
    "\n",
    "data_dict['data11'] = srtp.read_data(\"SRTP_Mea_2_2\\\\train_2_7_2.txt\"\n",
    "                               ,row_start = 0,row_end = None,column_start = 0, column_end = 7,print_shape = True)\n",
    "\n",
    "data_dict['data12'] = srtp.read_data(\"SRTP_Mea_2_2\\\\train_2_7_3.txt\"\n",
    "                               ,row_start = 0,row_end = None,column_start = 0, column_end = 7,print_shape = True)\n",
    "\n",
    "data_dict['data13'] = srtp.read_data(\"SRTP_Mea_2_2\\\\train_2_7_4.txt\"\n",
    "                               ,row_start = 0,row_end = None,column_start = 0, column_end = 7,print_shape = True)\n",
    "\n",
    "data_dict['data14'] = srtp.read_data(\"SRTP_Mea_2_2\\\\train_2_7_5.txt\"\n",
    "                               ,row_start = 0,row_end = None,column_start = 0, column_end = 7,print_shape = True)\n",
    "\n",
    "data_dict['data15'] = srtp.read_data(\"SRTP_Mea_2_2\\\\train_2_7_6.txt\"\n",
    "                               ,row_start = 0,row_end = None,column_start = 0, column_end = 7,print_shape = True)\n",
    "\n",
    "data_dict['test1'] = srtp.read_data(\"SRTP_Mea_2_2\\\\train_2_7_7.txt\"\n",
    "                               ,row_start = 0,row_end = 4000,column_start = 0, column_end = 7,print_shape = True)\n",
    "\n",
    "data_dict['data16'] = srtp.read_data(\"SRTP_Mea_2_2\\\\train_2_7_8.txt\"\n",
    "                               ,row_start = 0,row_end = None,column_start = 0, column_end = 7,print_shape = True)\n",
    "\n",
    "data_dict['data17'] = srtp.read_data(\"SRTP_Mea_2_2\\\\train_2_7_9.txt\"\n",
    "                               ,row_start = 0,row_end = None,column_start = 0, column_end = 7,print_shape = True)\n",
    "\n",
    "data_dict['data18'] = srtp.read_data(\"SRTP_Mea_2_2\\\\train_2_7_10.txt\"\n",
    "                               ,row_start = 0,row_end = None,column_start = 0, column_end = 7,print_shape = True)\n",
    "\n",
    "data_dict['data19'] = srtp.read_data(\"SRTP_Mea_2_2\\\\train_2_7_11.txt\"\n",
    "                               ,row_start = 0,row_end = None,column_start = 0, column_end = 7,print_shape = True)"
   ]
  },
  {
   "cell_type": "code",
   "execution_count": 5,
   "metadata": {
    "collapsed": true
   },
   "outputs": [],
   "source": [
    "\n",
    "num_periods = 300\n",
    "f_horizon = 5\n",
    "mean1 = -80 \n",
    "std1 = 15 \n",
    "meanw1 = 0\n",
    "stdw1 = 75\n",
    "\n",
    "mean2 = -110\n",
    "std2 = 15\n",
    "meanw2 = 0\n",
    "stdw2 = 90\n",
    "\n",
    "meany = 35\n",
    "stdy = 15"
   ]
  },
  {
   "cell_type": "code",
   "execution_count": 6,
   "metadata": {
    "collapsed": true
   },
   "outputs": [],
   "source": [
    "for i in range(1,filenum + 1):\n",
    "    data_dict['normalizeddata' + str(i)] = data_dict['data'+str(i)].copy()\n",
    "    temp1 = data_dict['data' + str(i)][f_horizon:,0]\n",
    "    temp2 = data_dict['data' + str(i)][f_horizon:,2]\n",
    "    data_dict['truey' + str(i)] = (temp1 - temp2).reshape(-1,1)\n",
    "    data_dict['normalizeddata' + str(i)][:,0] = (data_dict['data' + str(i)][:,0] - mean1) / std1\n",
    "    data_dict['normalizeddata' + str(i)][:,1] = (data_dict['data' + str(i)][:,1] - meanw1) / stdw1\n",
    "    data_dict['normalizeddata' + str(i)][:,2] = (data_dict['data' + str(i)][:,2] - mean2) / std2\n",
    "    data_dict['normalizeddata' + str(i)][:,3] = (data_dict['data' + str(i)][:,3] - meanw2) / stdw2\n",
    "    data_dict['normalizeddata' + str(i)][:,4] = data_dict['data' + str(i)][:,4] / 3\n",
    "    data_dict['normalizeddata' + str(i)][:,5] = data_dict['data' + str(i)][:,5] / 3\n",
    "    data_dict['normalizeddata' + str(i)][:,6] = data_dict['data' + str(i)][:,6] / 3"
   ]
  },
  {
   "cell_type": "code",
   "execution_count": 7,
   "metadata": {
    "collapsed": true
   },
   "outputs": [],
   "source": [
    "for i in range(1,filenum + 1):\n",
    "    data_dict['normalizeddata' + str(i)] = data_dict['normalizeddata' + str(i)][:-f_horizon,:]\n",
    "    data_dict['truey' + str(i)] = (data_dict['truey' + str(i)] - meany)/stdy"
   ]
  },
  {
   "cell_type": "code",
   "execution_count": 8,
   "metadata": {},
   "outputs": [
    {
     "name": "stdout",
     "output_type": "stream",
     "text": [
      "7474\n",
      "1348\n",
      "11941\n",
      "19839\n",
      "11980\n",
      "12721\n",
      "7444\n",
      "3029\n",
      "6200\n",
      "5600\n",
      "6904\n",
      "3900\n",
      "6264\n",
      "10586\n",
      "10476\n"
     ]
    }
   ],
   "source": [
    "validation_length = 4000;\n",
    "seperate_test_set = [6,8,13,16];\n",
    "test_index = 1;\n",
    "train_index = 1;\n",
    "breakpointset = [None for i in range(filenum)]\n",
    "#breakpointset = [9775,1175,21640,20085,6428,None,15672,None,7388,15838,7947,16380,None,17840,15358,None,17390,8458,16442]\n",
    "breakpointset = [7474,1348,11941,19839,11980,None,12721,None,7444,3029,6200,5600,None,6904,3900,None,6264,10586,10476]\n",
    "for i in range(1,filenum + 1):\n",
    "    if i in seperate_test_set:\n",
    "        breakpoint = None;\n",
    "    elif breakpointset[i-1] is None:\n",
    "        breakpoint = np.random.randint(1100,data_dict['data'+str(i)].shape[0]-1200-validation_length);\n",
    "        print(breakpoint)\n",
    "    else:\n",
    "        breakpoint = breakpointset[i-1]\n",
    "        print(breakpoint)\n",
    "    if breakpoint is None:\n",
    "        data_dict['final_testx' + str(test_index)] = data_dict['normalizeddata' + str(i)].copy()\n",
    "        data_dict['final_testy' + str(test_index)] = data_dict['truey' + str(i)].copy()\n",
    "        test_index += 1\n",
    "    else:\n",
    "        data_dict['testx' + str(train_index)] = data_dict['normalizeddata' + str(i)][breakpoint:breakpoint+validation_length,:].copy()\n",
    "        data_dict['testy' + str(train_index)] = data_dict['truey' + str(i)][breakpoint:breakpoint+validation_length,:].copy()\n",
    "        data_dict['datax' + str(2*train_index - 1)] = data_dict['normalizeddata' + str(i)][:breakpoint,:].copy()\n",
    "        data_dict['datay' + str(2*train_index - 1)] = data_dict['truey' + str(i)][:breakpoint,:].copy()\n",
    "        data_dict['datax' + str(2*train_index)] = data_dict['normalizeddata'+str(i)][breakpoint + validation_length:,:].copy()\n",
    "        data_dict['datay' + str(2*train_index)] = data_dict['truey' + str(i)][breakpoint+validation_length:,:].copy()\n",
    "        train_index += 1\n",
    "train_filenum  = train_index - 1\n",
    "test_filenum = test_index - 1"
   ]
  },
  {
   "cell_type": "code",
   "execution_count": 9,
   "metadata": {},
   "outputs": [
    {
     "name": "stdout",
     "output_type": "stream",
     "text": [
      "INFO:tensorflow:Restoring parameters from ckptset\\fully-connected_5_3_ANN_normal\n",
      "0 \tMSE: 0.062165964394807816\n"
     ]
    }
   ],
   "source": [
    "    filenum = train_filenum\n",
    "    ckptname = 'fully-connected_5_3_ANN_normal'\n",
    "    saver_name = ckptname\n",
    "    learning_rate = 0.000001\n",
    "    beta = 0.00001\n",
    "    epochs = 1\n",
    "    ration = 1\n",
    "    cluster_num = 64\n",
    "    recent = 8\n",
    "    \n",
    "    inputs = recent*7\n",
    "    outputshape = 1\n",
    "    num_periods = 256\n",
    "    \n",
    "    \"\"\"\n",
    "    8265 parameters\n",
    "    \n",
    "    \"\"\"\n",
    "\n",
    "    hidden1 = 48\n",
    "    hidden2 = 40\n",
    "    hidden3 = 32\n",
    "    hidden4 = 32\n",
    "    hidden5 = 24\n",
    "\n",
    "    tf.reset_default_graph()\n",
    "    \n",
    "    x = tf.placeholder(tf.float32,[None,inputs])\n",
    "    y = tf.placeholder(tf.float32,[None,outputshape]);\n",
    "    \n",
    "    hidden_layer1 = tf.layers.dense(x,hidden1,name = 'hidden1')\n",
    "    hidden_layer2 = tf.layers.dense(tf.nn.relu(hidden_layer1),hidden2,name = 'hidden2')\n",
    "    hidden_layer3 = tf.layers.dense(tf.nn.relu(hidden_layer2),hidden3,name = 'hidden3')\n",
    "    hidden_layer4 = tf.layers.dense(tf.nn.relu(hidden_layer3),hidden4,name = 'hidden4')\n",
    "    hidden_layer5 = tf.layers.dense(tf.nn.relu(hidden_layer4),hidden5,name = 'hidden5')\n",
    "    outputs = tf.layers.dense(tf.nn.relu(hidden_layer5),outputshape,name = 'outputs')\n",
    "\n",
    "    MSE = tf.reduce_mean(tf.square(outputs[:,:] - y[:,:]))\n",
    "\n",
    "    Regulizer = beta*(tf.nn.l2_loss(tf.trainable_variables('hidden1')[0])+\n",
    "                      tf.nn.l2_loss(tf.trainable_variables('hidden2')[0])+\n",
    "                      tf.nn.l2_loss(tf.trainable_variables('hidden3')[0])+\n",
    "                      tf.nn.l2_loss(tf.trainable_variables('hidden4')[0])+\n",
    "                      tf.nn.l2_loss(tf.trainable_variables('hidden5')[0])+\n",
    "                      tf.nn.l2_loss(tf.trainable_variables('outputs')[0])\n",
    "                      )\n",
    "    loss = tf.add(Regulizer,ration*MSE)\n",
    "    optimizer = tf.train.AdamOptimizer(learning_rate = learning_rate)\n",
    "    gvs = optimizer.compute_gradients(loss)\n",
    "    capped_gvs = [(tf.clip_by_value(grad,-0.5,0.5),var) for grad,var in gvs]\n",
    "    training_op = optimizer.apply_gradients(capped_gvs)\n",
    "    init = tf.global_variables_initializer()\n",
    "    mse = 0\n",
    "    List1 = []\n",
    "    x_data = np.zeros([cluster_num,inputs])\n",
    "    y_data = np.zeros([cluster_num,outputshape])\n",
    "    #y_data = np.zeros((cluster_num,num_periods,outputshape))\n",
    "\n",
    "    for i in range(1,2*filenum + 1):\n",
    "        List1.append(data_dict['datax' + str(i)].shape[0] - recent)\n",
    "    with tf.Session() as sess:\n",
    "        #init.run()\n",
    "        saver = tf.train.Saver()\n",
    "        checkpoint_filepath = 'ckptset\\\\' + ckptname\n",
    "        saver.restore(sess,checkpoint_filepath)\n",
    "        term = 0\n",
    "        for ep in range(epochs):\n",
    "            source = np.random.randint(1,2*filenum + 1,cluster_num,dtype = int)\n",
    "            \n",
    "            for i in range(cluster_num):\n",
    "                index = np.random.randint(recent,List1[source[i]-1])\n",
    "                for j in range(recent):\n",
    "                    x_data[i,j*7:j*7+7] = data_dict['datax' + str(source[i])][index - j,0:7]\n",
    "                #data_angle[i,:,:] = data_dict['datax' + str(source[i])][index:index+num_periods,0:4]\n",
    "                #data_emg[i,:,:] = data_dict['datax' + str(source[i])][index:index+num_periods,4:7]\n",
    "                y_data[i,:] = data_dict['datay' + str(source[i])][index,:]\n",
    "            sess.run(training_op,feed_dict = { x:x_data,y:y_data})\n",
    "            if ep%5 == 0:\n",
    "                mse +=MSE.eval(feed_dict = {x:x_data,y:y_data})\n",
    "                term += 1\n",
    "            if ep%1000 == 0:\n",
    "                mse /= term\n",
    "                print(ep,\"\\tMSE:\",mse)\n",
    "                term = 0\n",
    "                mse = 0\n",
    "        hidden1_params = sess.run(tf.trainable_variables('hidden1'))\n",
    "        hidden2_params = sess.run(tf.trainable_variables('hidden2'))\n",
    "        hidden3_params = sess.run(tf.trainable_variables('hidden3'))\n",
    "        hidden4_params = sess.run(tf.trainable_variables('hidden4'))\n",
    "        hidden5_params = sess.run(tf.trainable_variables('hidden5'))\n",
    "        output_params = sess.run(tf.trainable_variables('outputs'))\n",
    "        saver = tf.train.Saver()\n",
    "        save_path = saver.save(sess, 'ckptset\\\\'+ saver_name);\n",
    "        #params_list = [rnn_params,emg_params,dense1_params,hidden_dense_params,dense2_params]"
   ]
  },
  {
   "cell_type": "code",
   "execution_count": 10,
   "metadata": {
    "collapsed": true
   },
   "outputs": [],
   "source": [
    "recent = 8"
   ]
  },
  {
   "cell_type": "code",
   "execution_count": 11,
   "metadata": {
    "collapsed": true
   },
   "outputs": [],
   "source": [
    "def verify(string,num,is_printout):    \n",
    "    alpha = 0.00001\n",
    "    start = 0\n",
    "    end = 50000\n",
    "    hiddenW1 = hidden1_params[0]\n",
    "    hiddenb1 = hidden1_params[1]\n",
    "    hiddenW2 = hidden2_params[0]\n",
    "    hiddenb2 = hidden2_params[1]\n",
    "    hiddenW3 = hidden3_params[0]\n",
    "    hiddenb3 = hidden3_params[1]\n",
    "    hiddenW4 = hidden4_params[0]\n",
    "    hiddenb4 = hidden4_params[1]\n",
    "    hiddenW5 = hidden5_params[0]\n",
    "    hiddenb5 = hidden5_params[1]\n",
    "    outputW1 = output_params[0].copy()\n",
    "    outputb1 = output_params[1].copy()\n",
    "    \n",
    "    #mcu_x = mcu_test4[100:-5,0:7]\n",
    "    \n",
    "    #mcu_y = mcu_test4[100+5+recent:,0] - mcu_test4[100+5+recent:,2] \n",
    "    \n",
    "    #testy = ((mcu_y - 35)/15).reshape([-1,1])\n",
    "    #X = mcu_x.copy()\n",
    "    #X[:,0] = (X[:,0] - mean1)/std1\n",
    "    #X[:,1] = (X[:,1] - meanw1)/stdw1\n",
    "    #X[:,2] = (X[:,2] - mean2)/std2\n",
    "    #X[:,3] = (X[:,3] - meanw2)/stdw2\n",
    "    #X[:,4] = (X[:,4] - 0)/3\n",
    "    #X[:,5] = (X[:,5] - 0)/3\n",
    "    #X[:,6] = (X[:,6] - 0)/3\n",
    "    testy = data_dict[string+'y'+str(num)][recent:,:].reshape([-1,1])\n",
    "    X = data_dict[string+'x' + str(num)].copy()\n",
    "    testx = np.zeros([X.shape[0] - recent,recent * 7])\n",
    "    for i in range(recent):\n",
    "        if(i == 0):\n",
    "            testx[:,7*i:7*i+7] = X[recent:,0:7];\n",
    "        else:\n",
    "            testx[:,7*i:7*i+7] = X[recent-i:-i,0:7];\n",
    "    \n",
    "    finaloutput = np.zeros(testy.shape)\n",
    "    ####         FeedBack                ######\n",
    "    \n",
    "    Queue_hidden2 = np.zeros((5,24))\n",
    "    ptr = 0;\n",
    "    ####                                 #####\n",
    "    #finaloutput = np.zeros((testx.shape[0],outputsize))\n",
    "    unnormal = np.zeros(finaloutput.shape)\n",
    "    for i in range(testx.shape[0]):\n",
    "        hidden1 = testx[i,:].dot(hiddenW1) + hiddenb1\n",
    "        hidden1[hidden1<0] = 0\n",
    "        \n",
    "        hidden2 = hidden1.dot(hiddenW2) + hiddenb2\n",
    "        hidden2[hidden2<0] = 0\n",
    "        \n",
    "        hidden3 = hidden2.dot(hiddenW3) + hiddenb3\n",
    "        hidden3[hidden3<0] = 0\n",
    "        \n",
    "        hidden4 = hidden3.dot(hiddenW4) + hiddenb4\n",
    "        hidden4[hidden4<0] = 0\n",
    "        \n",
    "        hidden5 = hidden4.dot(hiddenW5) + hiddenb5\n",
    "        hidden5[hidden5<0] = 0\n",
    "        output = (hidden5.dot(outputW1) + outputb1).reshape([-1,1])\n",
    "        finaloutput[i,:] = output\n",
    "        if(i==0):\n",
    "            pass\n",
    "        elif(i<5):\n",
    "            pass\n",
    "          ### Feedback here  #### \n",
    "        else:\n",
    "            x_k5 = (testx[i,0]*std1+mean1-(testx[i,2]*std2 + mean2) - meany)/stdy\n",
    "            y_k = finaloutput[i-5,:]\n",
    "            diff = x_k5 - y_k\n",
    "            outputW1 += alpha * (diff) * Queue_hidden2[ptr,:].reshape([24,1])\n",
    "            outputb1 += alpha * diff\n",
    "           \n",
    "        Queue_hidden2[ptr,:] = output[0]\n",
    "        ptr = (ptr+1)%5\n",
    "        \n",
    "    RNNmse = np.mean(np.square(finaloutput[start:end,:] - testy[start:end,:])*stdy**2)\n",
    "    RNNmse2 = np.mean(np.square(finaloutput[start:end,:] - testy[start:end,:]))\n",
    "    RNNqua = np.mean(np.square(np.square(finaloutput[start:end,:] - testy[start:end,:])))\n",
    "    \n",
    "    \n",
    "    if(is_printout):\n",
    "\n",
    "        \n",
    "\n",
    "        print(\"RNN mse:\",RNNmse)\n",
    "\n",
    "\n",
    "        plt.figure(1,figsize = (18,1*5.4))\n",
    "        plt.title(\"Angle diff Forecast vs Actual\",fontsize = 14)\n",
    "\n",
    "        plt.plot(pd.Series(np.ravel(testy[start:end,0]*stdy+meany)),\"b-\",markersize = 1,label = 'Actual')\n",
    "        plt.plot(pd.Series(np.ravel(finaloutput[start:end,0]*stdy+meany)),\"r-\",markersize = 1,label = 'Forecast')\n",
    "        #plt.plot(pd.Series(naivey[start:end,0]),'g-',markersize = 1,label = 'naive guess')\n",
    "        plt.legend(loc = \"upper left\")\n",
    "        plt.xlabel(\"Time Periods\")\n",
    "\n",
    "        plt.show()\n",
    "    return [RNNmse,RNNqua]"
   ]
  },
  {
   "cell_type": "code",
   "execution_count": 44,
   "metadata": {
    "collapsed": true
   },
   "outputs": [],
   "source": [
    "mse = 0\n",
    "use_filenum = 31\n",
    "for i in range(6,use_filenum):\n",
    "    RNNmse = verify('data',i,False)\n",
    "    mse += RNNmse[0]\n",
    "    \n",
    "mse /= 25"
   ]
  },
  {
   "cell_type": "code",
   "execution_count": 45,
   "metadata": {},
   "outputs": [
    {
     "data": {
      "text/plain": [
       "10.980837907880577"
      ]
     },
     "execution_count": 45,
     "metadata": {},
     "output_type": "execute_result"
    }
   ],
   "source": [
    "mse"
   ]
  },
  {
   "cell_type": "code",
   "execution_count": 46,
   "metadata": {
    "collapsed": true
   },
   "outputs": [],
   "source": [
    "mse = 0\n",
    "for i in range(3,15):\n",
    "    RNNmse = verify('test',i,False)\n",
    "    mse += RNNmse[0]\n",
    "    \n",
    "mse /= 13"
   ]
  },
  {
   "cell_type": "code",
   "execution_count": 47,
   "metadata": {},
   "outputs": [
    {
     "data": {
      "text/plain": [
       "11.896656000663352"
      ]
     },
     "execution_count": 47,
     "metadata": {},
     "output_type": "execute_result"
    }
   ],
   "source": [
    "mse"
   ]
  },
  {
   "cell_type": "code",
   "execution_count": 105,
   "metadata": {},
   "outputs": [
    {
     "data": {
      "text/plain": [
       "[23.200552544998867, 0.06640851748552141]"
      ]
     },
     "execution_count": 105,
     "metadata": {},
     "output_type": "execute_result"
    }
   ],
   "source": [
    "verify('final_test',1,False)"
   ]
  },
  {
   "cell_type": "code",
   "execution_count": 42,
   "metadata": {
    "collapsed": true
   },
   "outputs": [],
   "source": [
    "mse = 0\n",
    "for i in range(1,4):\n",
    "    RNNmse = verify('final_test',i,False)\n",
    "    mse += RNNmse[0]\n",
    "    \n",
    "mse /= 4"
   ]
  },
  {
   "cell_type": "code",
   "execution_count": 43,
   "metadata": {},
   "outputs": [
    {
     "data": {
      "text/plain": [
       "11.465363460861207"
      ]
     },
     "execution_count": 43,
     "metadata": {},
     "output_type": "execute_result"
    }
   ],
   "source": [
    "mse"
   ]
  },
  {
   "cell_type": "markdown",
   "metadata": {},
   "source": [
    "## SVR"
   ]
  },
  {
   "cell_type": "code",
   "execution_count": 18,
   "metadata": {
    "collapsed": true
   },
   "outputs": [],
   "source": [
    "from sklearn.externals import joblib"
   ]
  },
  {
   "cell_type": "code",
   "execution_count": 19,
   "metadata": {
    "collapsed": true
   },
   "outputs": [],
   "source": [
    "filename = 'SVR_model.sav'"
   ]
  },
  {
   "cell_type": "code",
   "execution_count": 254,
   "metadata": {},
   "outputs": [
    {
     "data": {
      "text/plain": [
       "['SVR_model.sav']"
      ]
     },
     "execution_count": 254,
     "metadata": {},
     "output_type": "execute_result"
    }
   ],
   "source": [
    "joblib.dump(clf1, filename)"
   ]
  },
  {
   "cell_type": "code",
   "execution_count": 20,
   "metadata": {
    "collapsed": true
   },
   "outputs": [],
   "source": [
    "clf1 = joblib.load(filename)"
   ]
  },
  {
   "cell_type": "code",
   "execution_count": 23,
   "metadata": {
    "collapsed": true
   },
   "outputs": [],
   "source": [
    "from sklearn.svm import SVR\n",
    "from sklearn.metrics import mean_squared_error\n",
    "#clf1 = SVR(C=3, epsilon=0.1,verbose = 1,max_iter = 10000)"
   ]
  },
  {
   "cell_type": "code",
   "execution_count": 21,
   "metadata": {},
   "outputs": [
    {
     "name": "stdout",
     "output_type": "stream",
     "text": [
      "316953\n"
     ]
    }
   ],
   "source": [
    "number = 0\n",
    "recent = 8\n",
    "breaking = 1\n",
    "for i in range(1,31,breaking):\n",
    "    number += (data_dict['datay' + str(i)].shape[0]- recent)\n",
    "print(number)\n",
    "\n",
    "datax = np.zeros([number,7 *recent])\n",
    "datay = np.zeros([number,1])\n",
    "\n",
    "ptr = 0\n",
    "for i in range(1,31,breaking):\n",
    "    number1 = data_dict['datay' + str(i)].shape[0] - recent\n",
    "    for j in range(recent):\n",
    "        datax[ptr:ptr+number1,7*j:7*j+7] = data_dict['datax' + str(i)][j:j+number1,0:7].copy()\n",
    "    datay[ptr:ptr+number1,:] = data_dict['datay' + str(i)][recent:,:].copy()\n",
    "    ptr += number1\n",
    "#clf1.fit(datax,datay)"
   ]
  },
  {
   "cell_type": "code",
   "execution_count": 24,
   "metadata": {},
   "outputs": [
    {
     "data": {
      "text/plain": [
       "17.794046701603428"
      ]
     },
     "execution_count": 24,
     "metadata": {},
     "output_type": "execute_result"
    }
   ],
   "source": [
    "mean_squared_error(datay, clf1.predict(datax) ) * 225"
   ]
  },
  {
   "cell_type": "code",
   "execution_count": 25,
   "metadata": {},
   "outputs": [
    {
     "name": "stdout",
     "output_type": "stream",
     "text": [
      "55888\n"
     ]
    },
    {
     "data": {
      "text/plain": [
       "20.895933779153733"
      ]
     },
     "execution_count": 25,
     "metadata": {},
     "output_type": "execute_result"
    }
   ],
   "source": [
    "number = 0\n",
    "recent = 8\n",
    "for i in range(1,15,1):\n",
    "    number += (data_dict['testy' + str(i)].shape[0]- recent)\n",
    "print(number)\n",
    "\n",
    "testx = np.zeros([number,7 *recent])\n",
    "testy = np.zeros([number,1])\n",
    "\n",
    "ptr = 0\n",
    "for i in range(1,15,1):\n",
    "    number1 = data_dict['testy' + str(i)].shape[0] - recent\n",
    "    for j in range(recent):\n",
    "        testx[ptr:ptr+number1,7*j:7*j+7] = data_dict['testx' + str(i)][j:j+number1,0:7].copy()\n",
    "    testy[ptr:ptr+number1,:] = data_dict['testy' + str(i)][recent:,:].copy()\n",
    "    ptr += number1\n",
    "\n",
    "mean_squared_error(testy, clf1.predict(testx) ) * 225"
   ]
  },
  {
   "cell_type": "code",
   "execution_count": 26,
   "metadata": {},
   "outputs": [
    {
     "name": "stdout",
     "output_type": "stream",
     "text": [
      "77508\n"
     ]
    },
    {
     "data": {
      "text/plain": [
       "23.834819678715085"
      ]
     },
     "execution_count": 26,
     "metadata": {},
     "output_type": "execute_result"
    }
   ],
   "source": [
    "number = 0\n",
    "recent = 8\n",
    "for i in range(1,4,1):\n",
    "    number += (data_dict['final_testy' + str(i)].shape[0]- recent)\n",
    "print(number)\n",
    "\n",
    "final_testx = np.zeros([number,7 *recent])\n",
    "final_testy = np.zeros([number,1])\n",
    "\n",
    "ptr = 0\n",
    "for i in range(1,4,1):\n",
    "    number1 = data_dict['final_testy' + str(i)].shape[0] - recent\n",
    "    for j in range(recent):\n",
    "        final_testx[ptr:ptr+number1,7*j:7*j+7] = data_dict['final_testx' + str(i)][j:j+number1,0:7].copy()\n",
    "    final_testy[ptr:ptr+number1,:] = data_dict['final_testy' + str(i)][recent:,:].copy()\n",
    "    ptr += number1\n",
    "\n",
    "mean_squared_error(final_testy, clf1.predict(final_testx) ) * 225"
   ]
  },
  {
   "cell_type": "code",
   "execution_count": null,
   "metadata": {
    "collapsed": true
   },
   "outputs": [],
   "source": []
  },
  {
   "cell_type": "code",
   "execution_count": 27,
   "metadata": {},
   "outputs": [
    {
     "name": "stdout",
     "output_type": "stream",
     "text": [
      "WARNING:tensorflow:From c:\\program files\\python36\\lib\\site-packages\\tensorflow\\contrib\\learn\\python\\learn\\datasets\\base.py:198: retry (from tensorflow.contrib.learn.python.learn.datasets.base) is deprecated and will be removed in a future version.\n",
      "Instructions for updating:\n",
      "Use the retry module or similar alternatives.\n",
      "INFO:tensorflow:Restoring parameters from ckptset\\new_5_3_2018_Multipleguys_1_beta_0.00001_ration_0_2\n",
      "0 \tMSE: 0.03416046127676964\n"
     ]
    }
   ],
   "source": [
    "params_list = srtp.train_model(data_dict,is_new = False,ckptname = 'new_5_3_2018_Multipleguys_1_beta_0.00001_ration_0_2',\n",
    "                          learning_rate = 0.000000003,beta = 0,epochs = 1,\n",
    "                          ration = 0,cluster_num = 128,filenum = train_filenum,saver_name = None,num_periods = 100)"
   ]
  },
  {
   "cell_type": "code",
   "execution_count": 28,
   "metadata": {
    "collapsed": true
   },
   "outputs": [],
   "source": [
    "    alpha = 0.00001\n",
    "    start = 0\n",
    "    end = 50000\n",
    "    hiddenW1 = hidden1_params[0]\n",
    "    hiddenb1 = hidden1_params[1]\n",
    "    hiddenW2 = hidden2_params[0]\n",
    "    hiddenb2 = hidden2_params[1]\n",
    "    hiddenW3 = hidden3_params[0]\n",
    "    hiddenb3 = hidden3_params[1]\n",
    "    hiddenW4 = hidden4_params[0]\n",
    "    hiddenb4 = hidden4_params[1]\n",
    "    hiddenW5 = hidden5_params[0]\n",
    "    hiddenb5 = hidden5_params[1]\n",
    "    outputW1 = output_params[0].copy()\n",
    "    outputb1 = output_params[1].copy()\n",
    "    \n",
    "    #mcu_x = mcu_test4[100:-5,0:7]\n",
    "    \n",
    "    #mcu_y = mcu_test4[100+5+recent:,0] - mcu_test4[100+5+recent:,2] \n",
    "    \n",
    "    #testy = ((mcu_y - 35)/15).reshape([-1,1])\n",
    "    #X = mcu_x.copy()\n",
    "    #X[:,0] = (X[:,0] - mean1)/std1\n",
    "    #X[:,1] = (X[:,1] - meanw1)/stdw1\n",
    "    #X[:,2] = (X[:,2] - mean2)/std2\n",
    "    #X[:,3] = (X[:,3] - meanw2)/stdw2\n",
    "    #X[:,4] = (X[:,4] - 0)/3\n",
    "    #X[:,5] = (X[:,5] - 0)/3\n",
    "    #X[:,6] = (X[:,6] - 0)/3\n",
    "    #testy = data_dict[string+'y'+str(num)][recent:,:].reshape([-1,1])\n",
    "    #X = data_dict[string+'x' + str(num)].copy()\n",
    "    \n",
    "    testy = data_dict['final_testy2'][recent:,:].reshape([-1,1])\n",
    "    X = data_dict['final_testx2'].copy()\n",
    "    testx = np.zeros([X.shape[0] - recent,recent * 7])\n",
    "    for i in range(recent):\n",
    "        if(i == 0):\n",
    "            testx[:,7*i:7*i+7] = X[recent:,0:7];\n",
    "        else:\n",
    "            testx[:,7*i:7*i+7] = X[recent-i:-i,0:7];\n",
    "    \n",
    "    ANNoutput = np.zeros(testy.shape)\n",
    "    ####         FeedBack                ######\n",
    "    \n",
    "    Queue_hidden2 = np.zeros((5,24))\n",
    "    ptr = 0;\n",
    "    ####                                 #####\n",
    "    #finaloutput = np.zeros((testx.shape[0],outputsize))\n",
    "    unnormal = np.zeros(ANNoutput.shape)\n",
    "    for i in range(testy.shape[0]):\n",
    "        hidden1 = testx[i,:].dot(hiddenW1) + hiddenb1\n",
    "        hidden1[hidden1<0] = 0\n",
    "        \n",
    "        hidden2 = hidden1.dot(hiddenW2) + hiddenb2\n",
    "        hidden2[hidden2<0] = 0\n",
    "        \n",
    "        hidden3 = hidden2.dot(hiddenW3) + hiddenb3\n",
    "        hidden3[hidden3<0] = 0\n",
    "        \n",
    "        hidden4 = hidden3.dot(hiddenW4) + hiddenb4\n",
    "        hidden4[hidden4<0] = 0\n",
    "        \n",
    "        hidden5 = hidden4.dot(hiddenW5) + hiddenb5\n",
    "        hidden5[hidden5<0] = 0\n",
    "        output = (hidden5.dot(outputW1) + outputb1).reshape([-1,1])\n",
    "        ANNoutput[i,:] = output\n",
    "        if(i==0):\n",
    "            pass\n",
    "        elif(i<5):\n",
    "            pass\n",
    "          ### Feedback here  #### \n",
    "        else:\n",
    "            x_k5 = (testx[i,0]*std1+mean1-(testx[i,2]*std2 + mean2) - meany)/stdy\n",
    "            y_k = ANNoutput[i-5,:]\n",
    "            diff = x_k5 - y_k\n",
    "            outputW1 += alpha * (diff) * Queue_hidden2[ptr,:].reshape([24,1])\n",
    "            outputb1 += alpha * diff\n",
    "           \n",
    "        Queue_hidden2[ptr,:] = output[0]\n",
    "        ptr = (ptr+1)%5\n",
    "        \n",
    "    ANNmse = np.mean(np.square(ANNoutput[start:end,:] - testy[start:end,:])*stdy**2)\n",
    "    ANNmse2 = np.mean(np.square(ANNoutput[start:end,:] - testy[start:end,:]))\n",
    "    ANNqua = np.mean(np.square(np.square(ANNoutput[start:end,:] - testy[start:end,:])))"
   ]
  },
  {
   "cell_type": "code",
   "execution_count": 29,
   "metadata": {},
   "outputs": [
    {
     "data": {
      "text/plain": [
       "14.85764384940204"
      ]
     },
     "execution_count": 29,
     "metadata": {},
     "output_type": "execute_result"
    }
   ],
   "source": [
    "ANNmse"
   ]
  },
  {
   "cell_type": "code",
   "execution_count": 30,
   "metadata": {
    "collapsed": true
   },
   "outputs": [],
   "source": [
    "    \"\"\"\n",
    "    SVR\n",
    "    \"\"\"\n",
    "    \n",
    "    SVR_y = clf1.predict(testx[:,:]) * stdy + meany\n",
    "    SVRmse = np.mean(np.square(SVR_y[start+5:end] - testy[start+5:end]*stdy - meany))\n",
    "    "
   ]
  },
  {
   "cell_type": "code",
   "execution_count": 31,
   "metadata": {
    "collapsed": true
   },
   "outputs": [],
   "source": [
    "SVRmse = np.mean(np.square(SVR_y[start:end] - testy[start:end]*stdy - meany))"
   ]
  },
  {
   "cell_type": "code",
   "execution_count": 32,
   "metadata": {},
   "outputs": [
    {
     "data": {
      "text/plain": [
       "713.2878820978588"
      ]
     },
     "execution_count": 32,
     "metadata": {},
     "output_type": "execute_result"
    }
   ],
   "source": [
    "SVRmse"
   ]
  },
  {
   "cell_type": "code",
   "execution_count": 33,
   "metadata": {
    "collapsed": true
   },
   "outputs": [],
   "source": [
    "    \"\"\"\n",
    "    RNN\n",
    "    \"\"\"\n",
    "    beta = 1\n",
    "    Q_angle = 0.004\n",
    "    Q_omega = 0.04\n",
    "    R = 1\n",
    "    alpha = 0.0001\n",
    "    testx = X.copy()\n",
    "    testy = data_dict['final_testy2']\n",
    "    \n",
    "    \n",
    "    rnn_params = params_list[0]\n",
    "    emg_params = params_list[1]\n",
    "    dense1_params = params_list[2]\n",
    "    hidden_dense_params = params_list[3]\n",
    "    dense2_params = params_list[4]\n",
    "    rnnW1 = rnn_params[0]\n",
    "    rnnb1 = rnn_params[1].reshape(1,-1)\n",
    "    rnnW2 = rnn_params[2]\n",
    "    rnnb2 = rnn_params[3].reshape(1,-1)\n",
    "    rnnW3 = rnn_params[4]\n",
    "    rnnb3 = rnn_params[5].reshape(1,-1)\n",
    "    \n",
    "    emgW1 = emg_params[0]\n",
    "    emgb1 = emg_params[1].reshape(1,-1)\n",
    "    emgW2 = emg_params[2]\n",
    "    emgb2 = emg_params[3].reshape(1,-1)\n",
    "    \n",
    "    denseW1 = dense1_params[0]\n",
    "    denseb1 = dense1_params[1].reshape(1,-1)\n",
    "    denseW2 = hidden_dense_params[0]\n",
    "    denseb2 = hidden_dense_params[1].reshape(1,-1)\n",
    "    denseW3 = dense2_params[0].copy()\n",
    "    denseb3 = dense2_params[1].reshape(1,-1).copy()\n",
    "    \n",
    "    mean1 = -80 \n",
    "    std1 = 15 \n",
    "    meanw1 = 0\n",
    "    stdw1 = 75\n",
    "\n",
    "    mean2 = -110\n",
    "    std2 = 15\n",
    "    meanw2 = 0\n",
    "    stdw2 = 90\n",
    "\n",
    "    meany = 35\n",
    "    stdy = 15\n",
    "\n",
    "    input_angle_size = rnn_params[0].shape[0] - rnn_params[0].shape[1]\n",
    "    input_emg_size = emg_params[0].shape[0] - emg_params[0].shape[1]\n",
    "\n",
    "    hiddensize = rnnW1.shape[1]\n",
    "    rnnsize2 = rnnW2.shape[1]\n",
    "    rnnsize3 = rnnW3.shape[1]\n",
    "    \n",
    "    rnn_emg_size = emgW1.shape[1]\n",
    "    \n",
    "    hiddenlayersize = len(denseb1)\n",
    "    rnn_state_size = len(rnnb1)\n",
    "    outputsize = len(denseb3)\n",
    "    Test_angle_input = np.zeros((1,input_angle_size+hiddensize))\n",
    "    Test_emg_input = np.zeros((1,input_emg_size+rnn_emg_size))\n",
    "    State1 = np.zeros((1,hiddensize))\n",
    "    State2 = np.zeros((1,rnnsize2))\n",
    "    State3 = np.zeros((1,rnnsize3))\n",
    "    emgState1 = np.zeros((1,rnn_emg_size))\n",
    "    emgState2 = np.zeros((1,rnn_emg_size))\n",
    "    temp_input = np.zeros((1,hiddensize + rnnsize2));\n",
    "    temp_input2 = np.zeros((1,2*rnn_emg_size));\n",
    "    concate_input = np.zeros((1,rnnsize3 + rnn_emg_size))\n",
    "    ####         FeedBack                ######\n",
    "    \n",
    "    Queue_hidden2 = np.zeros((5,16))\n",
    "    ptr = 0;\n",
    "    \n",
    "    ####                                 #####\n",
    "    RNNoutput = np.zeros((testx.shape[0],outputsize))\n",
    "    unnormal = np.zeros((testx.shape[0],outputsize))\n",
    "    for i in range(testx.shape[0]):\n",
    "        Test_angle_input[0,:input_angle_size] = testx[i,0:4].T\n",
    "        Test_angle_input[0,input_angle_size:] = State1\n",
    "        State1 = Test_angle_input.dot(rnnW1) + rnnb1\n",
    "        State1[State1<0] = 0\n",
    "\n",
    "        temp_input[0,0:hiddensize] = State1\n",
    "        temp_input[0,hiddensize:] = State2\n",
    "        State2 = temp_input.dot(rnnW2) + rnnb2\n",
    "        State2[State2<0] = 0\n",
    "\n",
    "        temp_input[0,0:rnnsize2] = State2\n",
    "        temp_input[0,rnnsize2:] = State3\n",
    "        State3 = temp_input.dot(rnnW3) + rnnb3\n",
    "        State3[State3<0] = 0\n",
    "        \n",
    "        Test_emg_input[0,0:input_emg_size] = testx[i,4:7].T\n",
    "        Test_emg_input[0,input_emg_size:] = emgState1\n",
    "        emgState1 = Test_emg_input.dot(emgW1) + emgb1\n",
    "        emgState1[emgState1<0] = 0\n",
    "        \n",
    "        temp_input2[0,0:rnn_emg_size] = emgState1\n",
    "        temp_input2[0,rnn_emg_size:] = emgState2\n",
    "        emgState2 = temp_input2.dot(emgW2) + emgb2\n",
    "        emgState2[emgState2<0] = 0\n",
    "        \n",
    "        concate_input[0,0:hiddensize] = State3\n",
    "        concate_input[0,hiddensize:] = emgState2\n",
    "        \n",
    "        hidden = concate_input.dot(denseW1)+denseb1 \n",
    "        hidden[hidden<0] = 0\n",
    "\n",
    "        hidden2 = hidden.dot(denseW2) + denseb2\n",
    "        hidden2[hidden2<0] = 0\n",
    "\n",
    "        tempoutput = hidden2.dot(denseW3) + denseb3\n",
    "        \n",
    "        if(i==0):\n",
    "            temp_uno = tempoutput*15 + 35\n",
    "            Kalman_params = srtp.KalmanFilter(temp_uno,Q_angle,Q_omega,R)\n",
    "            RNNoutput[i,:] = (Kalman_params[0]-35)/15\n",
    "            \n",
    "        elif(i<5):\n",
    "            \n",
    "            temp_uno = (tempoutput*15 + 35)*beta + (1-beta)*temp_uno\n",
    "            Kalman_params = srtp.KalmanFilter(temp_uno,Q_angle,Q_omega,R,Kalman_params)\n",
    "            RNNoutput[i,:] = (Kalman_params[0]-35)/15\n",
    "            \n",
    "          ### Feedback here  #### \n",
    "        else:\n",
    "            x_k5 = (testx[i,0]*std1+mean1-(testx[i,2]*std2 + mean2) - meany)/stdy\n",
    "            y_k = RNNoutput[i-5,:]\n",
    "            diff = x_k5 - y_k\n",
    "            denseW3 += alpha * (diff) * Queue_hidden2[ptr,:].reshape([16,1])\n",
    "            denseb3 += alpha * diff\n",
    "            \n",
    "            temp_uno = (tempoutput*15 + 35)*beta + (1-beta)*temp_uno\n",
    "            Kalman_params = srtp.KalmanFilter(temp_uno,Q_angle,Q_omega,R,Kalman_params)\n",
    "            RNNoutput[i,:] = (Kalman_params[0]-35)/15\n",
    "            \n",
    "            \n",
    "        Queue_hidden2[ptr,:] = hidden2[0]\n",
    "        ptr = (ptr+1)%5\n",
    "        \n",
    "    RNNmse = np.mean(np.square(RNNoutput[start:end,:] - testy[start:end,:])*stdy**2)\n",
    "    RNNmse2 = np.mean(np.square(RNNoutput[start:end,:] - testy[start:end,:]))\n",
    "    RNNqua = np.mean(np.square(np.square(RNNoutput[start:end,:] - testy[start:end,:])))\n",
    "    \n",
    "    "
   ]
  },
  {
   "cell_type": "code",
   "execution_count": 34,
   "metadata": {},
   "outputs": [
    {
     "data": {
      "text/plain": [
       "11.422452914255404"
      ]
     },
     "execution_count": 34,
     "metadata": {},
     "output_type": "execute_result"
    }
   ],
   "source": [
    "RNNmse"
   ]
  },
  {
   "cell_type": "code",
   "execution_count": 35,
   "metadata": {
    "scrolled": false
   },
   "outputs": [
    {
     "name": "stdout",
     "output_type": "stream",
     "text": [
      "ANN mse: 14.565150357286225\n",
      "SVR mse: 202.15870800198226\n",
      "RNN mse: 8.421440465637831\n"
     ]
    },
    {
     "data": {
      "image/png": "[encoded data removed]",
      "text/plain": [
       "<matplotlib.figure.Figure at 0xd1f08eb0f0>"
      ]
     },
     "metadata": {},
     "output_type": "display_data"
    }
   ],
   "source": [
    "start = 17000\n",
    "end = start+500\n",
    "plt.figure(1,figsize = (18,1*5.4))\n",
    "plt.title(\"Comparing different algorithm\",fontsize = 14)\n",
    "\n",
    "print(\"ANN mse:\",np.mean(np.square(ANNoutput[start-recent:end-recent,0]*stdy+meany - (testy[start:end,0]*stdy+meany))))\n",
    "print(\"SVR mse:\",np.mean(np.square(SVR_y[start-recent:end-recent] - (testy[start:end,0]*stdy+meany))))\n",
    "print(\"RNN mse:\",np.mean(np.square(RNNoutput[start:end,0]*stdy+meany - (testy[start:end,0]*stdy+meany))))\n",
    "plt.plot(pd.Series(testy[start+recent:end,0]*stdy+meany - (testy[start+recent:end,0]*stdy+meany)),'p-',markersize = 1, label = 'Target')\n",
    "plt.plot(pd.Series(np.ravel(ANNoutput[start-recent:end-recent,0]*stdy+meany - (testy[start:end,0]*stdy+meany))),\"g-\",markersize = 1,label = 'ANN Forecast')\n",
    "\n",
    "plt.plot(pd.Series(SVR_y[start-recent:end-recent] - (testy[start:end,0]*stdy+meany)),'b-',label = 'SVR Forecast')\n",
    "plt.plot(pd.Series(RNNoutput[start:end,0]*stdy+meany - (testy[start:end,0]*stdy+meany)),'r-',label = 'RNN Forecast')\n",
    "plt.legend(loc = \"upper left\")\n",
    "plt.xlabel('time / 10x ms',fontsize = 'large')\n",
    "plt.ylabel('angle / degree',fontsize = 'large')\n",
    "\n",
    "plt.show()"
   ]
  },
  {
   "cell_type": "code",
   "execution_count": null,
   "metadata": {
    "collapsed": true
   },
   "outputs": [],
   "source": []
  },
  {
   "cell_type": "code",
   "execution_count": null,
   "metadata": {
    "collapsed": true
   },
   "outputs": [],
   "source": []
  },
  {
   "cell_type": "code",
   "execution_count": null,
   "metadata": {
    "collapsed": true
   },
   "outputs": [],
   "source": []
  },
  {
   "cell_type": "code",
   "execution_count": 221,
   "metadata": {
    "collapsed": true
   },
   "outputs": [],
   "source": [
    "    alpha = 0.00001\n",
    "    start = 0\n",
    "    end = 50000\n",
    "    hiddenW1 = hidden1_params[0]\n",
    "    hiddenb1 = hidden1_params[1]\n",
    "    hiddenW2 = hidden2_params[0]\n",
    "    hiddenb2 = hidden2_params[1]\n",
    "    hiddenW3 = hidden3_params[0]\n",
    "    hiddenb3 = hidden3_params[1]\n",
    "    hiddenW4 = hidden4_params[0]\n",
    "    hiddenb4 = hidden4_params[1]\n",
    "    hiddenW5 = hidden5_params[0]\n",
    "    hiddenb5 = hidden5_params[1]\n",
    "    outputW1 = output_params[0].copy()\n",
    "    outputb1 = output_params[1].copy()\n",
    "    \n",
    "    #mcu_x = mcu_test4[100:-5,0:7]\n",
    "    \n",
    "    #mcu_y = mcu_test4[100+5+recent:,0] - mcu_test4[100+5+recent:,2] \n",
    "    \n",
    "    #testy = ((mcu_y - 35)/15).reshape([-1,1])\n",
    "    #X = mcu_x.copy()\n",
    "    #X[:,0] = (X[:,0] - mean1)/std1\n",
    "    #X[:,1] = (X[:,1] - meanw1)/stdw1\n",
    "    #X[:,2] = (X[:,2] - mean2)/std2\n",
    "    #X[:,3] = (X[:,3] - meanw2)/stdw2\n",
    "    #X[:,4] = (X[:,4] - 0)/3\n",
    "    #X[:,5] = (X[:,5] - 0)/3\n",
    "    #X[:,6] = (X[:,6] - 0)/3\n",
    "    #testy = data_dict[string+'y'+str(num)][recent:,:].reshape([-1,1])\n",
    "    #X = data_dict[string+'x' + str(num)].copy()\n",
    "    \n",
    "    testy = data_dict['final_testy2'][recent:,:].reshape([-1,1])\n",
    "    X = data_dict['final_testx2'].copy()\n",
    "    X[:,4:] = 0\n",
    "    testx = np.zeros([X.shape[0] - recent,recent * 7])\n",
    "    for i in range(recent):\n",
    "        if(i == 0):\n",
    "            testx[:,7*i:7*i+7] = X[recent:,0:7];\n",
    "        else:\n",
    "            testx[:,7*i:7*i+7] = X[recent-i:-i,0:7];\n",
    "    \n",
    "    ANNoutput = np.zeros(testy.shape)\n",
    "    ####         FeedBack                ######\n",
    "    \n",
    "    Queue_hidden2 = np.zeros((5,24))\n",
    "    ptr = 0;\n",
    "    ####                                 #####\n",
    "    #finaloutput = np.zeros((testx.shape[0],outputsize))\n",
    "    unnormal = np.zeros(ANNoutput.shape)\n",
    "    for i in range(testy.shape[0]):\n",
    "        hidden1 = testx[i,:].dot(hiddenW1) + hiddenb1\n",
    "        hidden1[hidden1<0] = 0\n",
    "        \n",
    "        hidden2 = hidden1.dot(hiddenW2) + hiddenb2\n",
    "        hidden2[hidden2<0] = 0\n",
    "        \n",
    "        hidden3 = hidden2.dot(hiddenW3) + hiddenb3\n",
    "        hidden3[hidden3<0] = 0\n",
    "        \n",
    "        hidden4 = hidden3.dot(hiddenW4) + hiddenb4\n",
    "        hidden4[hidden4<0] = 0\n",
    "        \n",
    "        hidden5 = hidden4.dot(hiddenW5) + hiddenb5\n",
    "        hidden5[hidden5<0] = 0\n",
    "        output = (hidden5.dot(outputW1) + outputb1).reshape([-1,1])\n",
    "        ANNoutput[i,:] = output\n",
    "        if(i==0):\n",
    "            pass\n",
    "        elif(i<5):\n",
    "            pass\n",
    "          ### Feedback here  #### \n",
    "        else:\n",
    "            x_k5 = (testx[i,0]*std1+mean1-(testx[i,2]*std2 + mean2) - meany)/stdy\n",
    "            y_k = ANNoutput[i-5,:]\n",
    "            diff = x_k5 - y_k\n",
    "            outputW1 += alpha * (diff) * Queue_hidden2[ptr,:].reshape([24,1])\n",
    "            outputb1 += alpha * diff\n",
    "           \n",
    "        Queue_hidden2[ptr,:] = output[0]\n",
    "        ptr = (ptr+1)%5\n",
    "        \n",
    "    ANNmse = np.mean(np.square(ANNoutput[start:end,:] - testy[start:end,:])*stdy**2)\n",
    "    ANNmse2 = np.mean(np.square(ANNoutput[start:end,:] - testy[start:end,:]))\n",
    "    ANNqua = np.mean(np.square(np.square(ANNoutput[start:end,:] - testy[start:end,:])))"
   ]
  },
  {
   "cell_type": "code",
   "execution_count": 222,
   "metadata": {},
   "outputs": [
    {
     "data": {
      "text/plain": [
       "21.906213318112894"
      ]
     },
     "execution_count": 222,
     "metadata": {},
     "output_type": "execute_result"
    }
   ],
   "source": [
    "ANNmse"
   ]
  },
  {
   "cell_type": "code",
   "execution_count": 211,
   "metadata": {
    "collapsed": true
   },
   "outputs": [],
   "source": [
    "    \"\"\"\n",
    "    SVR\n",
    "    \"\"\"\n",
    "    \n",
    "    SVR_y = clf1.predict(testx[:,:]) * stdy + meany\n",
    "    SVRmse = np.mean(np.square(SVR_y[start+5:end] - testy[start+5:end]))"
   ]
  },
  {
   "cell_type": "code",
   "execution_count": 212,
   "metadata": {
    "collapsed": true
   },
   "outputs": [],
   "source": [
    "SVRmse = np.mean(np.square(SVR_y[start:end] - testy[start:end]-testy))"
   ]
  },
  {
   "cell_type": "code",
   "execution_count": 213,
   "metadata": {},
   "outputs": [
    {
     "data": {
      "text/plain": [
       "1509.076796435577"
      ]
     },
     "execution_count": 213,
     "metadata": {},
     "output_type": "execute_result"
    }
   ],
   "source": [
    "SVRmse"
   ]
  },
  {
   "cell_type": "code",
   "execution_count": 214,
   "metadata": {
    "collapsed": true
   },
   "outputs": [],
   "source": [
    "    \"\"\"\n",
    "    RNN\n",
    "    \"\"\"\n",
    "    beta = 1\n",
    "    Q_angle = 0.004\n",
    "    Q_omega = 0.04\n",
    "    R = 1\n",
    "    alpha = 0.0001\n",
    "    testx = X.copy()\n",
    "    testy = data_dict['final_testy2']\n",
    "    \n",
    "    \n",
    "    rnn_params = params_list[0]\n",
    "    emg_params = params_list[1]\n",
    "    dense1_params = params_list[2]\n",
    "    hidden_dense_params = params_list[3]\n",
    "    dense2_params = params_list[4]\n",
    "    rnnW1 = rnn_params[0]\n",
    "    rnnb1 = rnn_params[1].reshape(1,-1)\n",
    "    rnnW2 = rnn_params[2]\n",
    "    rnnb2 = rnn_params[3].reshape(1,-1)\n",
    "    rnnW3 = rnn_params[4]\n",
    "    rnnb3 = rnn_params[5].reshape(1,-1)\n",
    "    \n",
    "    emgW1 = emg_params[0]\n",
    "    emgb1 = emg_params[1].reshape(1,-1)\n",
    "    emgW2 = emg_params[2]\n",
    "    emgb2 = emg_params[3].reshape(1,-1)\n",
    "    \n",
    "    denseW1 = dense1_params[0]\n",
    "    denseb1 = dense1_params[1].reshape(1,-1)\n",
    "    denseW2 = hidden_dense_params[0]\n",
    "    denseb2 = hidden_dense_params[1].reshape(1,-1)\n",
    "    denseW3 = dense2_params[0].copy()\n",
    "    denseb3 = dense2_params[1].reshape(1,-1).copy()\n",
    "    \n",
    "    mean1 = -80 \n",
    "    std1 = 15 \n",
    "    meanw1 = 0\n",
    "    stdw1 = 75\n",
    "\n",
    "    mean2 = -110\n",
    "    std2 = 15\n",
    "    meanw2 = 0\n",
    "    stdw2 = 90\n",
    "\n",
    "    meany = 35\n",
    "    stdy = 15\n",
    "\n",
    "    input_angle_size = rnn_params[0].shape[0] - rnn_params[0].shape[1]\n",
    "    input_emg_size = emg_params[0].shape[0] - emg_params[0].shape[1]\n",
    "\n",
    "    hiddensize = rnnW1.shape[1]\n",
    "    rnnsize2 = rnnW2.shape[1]\n",
    "    rnnsize3 = rnnW3.shape[1]\n",
    "    \n",
    "    rnn_emg_size = emgW1.shape[1]\n",
    "    \n",
    "    hiddenlayersize = len(denseb1)\n",
    "    rnn_state_size = len(rnnb1)\n",
    "    outputsize = len(denseb3)\n",
    "    Test_angle_input = np.zeros((1,input_angle_size+hiddensize))\n",
    "    Test_emg_input = np.zeros((1,input_emg_size+rnn_emg_size))\n",
    "    State1 = np.zeros((1,hiddensize))\n",
    "    State2 = np.zeros((1,rnnsize2))\n",
    "    State3 = np.zeros((1,rnnsize3))\n",
    "    emgState1 = np.zeros((1,rnn_emg_size))\n",
    "    emgState2 = np.zeros((1,rnn_emg_size))\n",
    "    temp_input = np.zeros((1,hiddensize + rnnsize2));\n",
    "    temp_input2 = np.zeros((1,2*rnn_emg_size));\n",
    "    concate_input = np.zeros((1,rnnsize3 + rnn_emg_size))\n",
    "    ####         FeedBack                ######\n",
    "    \n",
    "    Queue_hidden2 = np.zeros((5,16))\n",
    "    ptr = 0;\n",
    "    \n",
    "    ####                                 #####\n",
    "    RNNoutput = np.zeros((testx.shape[0],outputsize))\n",
    "    unnormal = np.zeros((testx.shape[0],outputsize))\n",
    "    for i in range(testx.shape[0]):\n",
    "        Test_angle_input[0,:input_angle_size] = testx[i,0:4].T\n",
    "        Test_angle_input[0,input_angle_size:] = State1\n",
    "        State1 = Test_angle_input.dot(rnnW1) + rnnb1\n",
    "        State1[State1<0] = 0\n",
    "\n",
    "        temp_input[0,0:hiddensize] = State1\n",
    "        temp_input[0,hiddensize:] = State2\n",
    "        State2 = temp_input.dot(rnnW2) + rnnb2\n",
    "        State2[State2<0] = 0\n",
    "\n",
    "        temp_input[0,0:rnnsize2] = State2\n",
    "        temp_input[0,rnnsize2:] = State3\n",
    "        State3 = temp_input.dot(rnnW3) + rnnb3\n",
    "        State3[State3<0] = 0\n",
    "        \n",
    "        Test_emg_input[0,0:input_emg_size] = testx[i,4:7].T\n",
    "        Test_emg_input[0,input_emg_size:] = emgState1\n",
    "        emgState1 = Test_emg_input.dot(emgW1) + emgb1\n",
    "        emgState1[emgState1<0] = 0\n",
    "        \n",
    "        temp_input2[0,0:rnn_emg_size] = emgState1\n",
    "        temp_input2[0,rnn_emg_size:] = emgState2\n",
    "        emgState2 = temp_input2.dot(emgW2) + emgb2\n",
    "        emgState2[emgState2<0] = 0\n",
    "        \n",
    "        concate_input[0,0:hiddensize] = State3\n",
    "        concate_input[0,hiddensize:] = emgState2\n",
    "        \n",
    "        hidden = concate_input.dot(denseW1)+denseb1 \n",
    "        hidden[hidden<0] = 0\n",
    "\n",
    "        hidden2 = hidden.dot(denseW2) + denseb2\n",
    "        hidden2[hidden2<0] = 0\n",
    "\n",
    "        tempoutput = hidden2.dot(denseW3) + denseb3\n",
    "        \n",
    "        if(i==0):\n",
    "            temp_uno = tempoutput*15 + 35\n",
    "            Kalman_params = srtp.KalmanFilter(temp_uno,Q_angle,Q_omega,R)\n",
    "            RNNoutput[i,:] = (Kalman_params[0]-35)/15\n",
    "            \n",
    "        elif(i<5):\n",
    "            \n",
    "            temp_uno = (tempoutput*15 + 35)*beta + (1-beta)*temp_uno\n",
    "            Kalman_params = srtp.KalmanFilter(temp_uno,Q_angle,Q_omega,R,Kalman_params)\n",
    "            RNNoutput[i,:] = (Kalman_params[0]-35)/15\n",
    "            \n",
    "          ### Feedback here  #### \n",
    "        else:\n",
    "            x_k5 = (testx[i,0]*std1+mean1-(testx[i,2]*std2 + mean2) - meany)/stdy\n",
    "            y_k = RNNoutput[i-5,:]\n",
    "            diff = x_k5 - y_k\n",
    "            denseW3 += alpha * (diff) * Queue_hidden2[ptr,:].reshape([16,1])\n",
    "            denseb3 += alpha * diff\n",
    "            \n",
    "            temp_uno = (tempoutput*15 + 35)*beta + (1-beta)*temp_uno\n",
    "            Kalman_params = srtp.KalmanFilter(temp_uno,Q_angle,Q_omega,R,Kalman_params)\n",
    "            RNNoutput[i,:] = (Kalman_params[0]-35)/15\n",
    "            \n",
    "            \n",
    "        Queue_hidden2[ptr,:] = hidden2[0]\n",
    "        ptr = (ptr+1)%5\n",
    "        \n",
    "    RNNmse = np.mean(np.square(RNNoutput[start:end,:] - testy[start:end,:])*stdy**2)\n",
    "    RNNmse2 = np.mean(np.square(RNNoutput[start:end,:] - testy[start:end,:]))\n",
    "    RNNqua = np.mean(np.square(np.square(RNNoutput[start:end,:] - testy[start:end,:])))\n",
    "    \n",
    "    "
   ]
  },
  {
   "cell_type": "code",
   "execution_count": 215,
   "metadata": {},
   "outputs": [
    {
     "data": {
      "text/plain": [
       "8.357005395308018"
      ]
     },
     "execution_count": 215,
     "metadata": {},
     "output_type": "execute_result"
    }
   ],
   "source": [
    "RNNmse"
   ]
  },
  {
   "cell_type": "code",
   "execution_count": 220,
   "metadata": {},
   "outputs": [
    {
     "name": "stdout",
     "output_type": "stream",
     "text": [
      "6.009073493484509\n",
      "857.5664801330189\n",
      "13.43775754355387\n"
     ]
    },
    {
     "data": {
      "image/png": "[encoded data removed]",
      "text/plain": [
       "<matplotlib.figure.Figure at 0xcec04112b0>"
      ]
     },
     "metadata": {},
     "output_type": "display_data"
    }
   ],
   "source": [
    "start = 15000\n",
    "end = 16000\n",
    "\n",
    "print(np.mean(np.square(RNNoutput[start:end,:] - testy[start:end,:])*stdy**2))\n",
    "\n",
    "print(np.mean(np.square(SVR_y[start-recent:end-recent] - testy[start:end,:]*stdy - meany)))\n",
    "print(np.mean(np.square(ANNoutput[start-recent:end-recent,:] - testy[start:end])*stdy**2))\n",
    "plt.figure(1,figsize = (18,1*5.4))\n",
    "plt.title(\"Comparing different algorithm\",fontsize = 14)\n",
    "        \n",
    "plt.plot(pd.Series(testy[start+recent:end,0]*stdy+meany),'p-',markersize = 1, label = 'Target')\n",
    "plt.plot(pd.Series(np.ravel(ANNoutput[start:end,0]*stdy+meany)),\"g-\",markersize = 1,label = 'ANN Forecast')\n",
    "\n",
    "#plt.plot(pd.Series(SVR_y[start:end]),'b-',label = 'SVR Forecast')\n",
    "plt.plot(pd.Series(RNNoutput[start+recent:end,0]*stdy+meany),'r-',label = 'RNN Forecast')\n",
    "plt.legend(loc = \"upper left\")\n",
    "plt.xlabel('time / 10x ms',fontsize = 'large')\n",
    "plt.ylabel('angle / degree',fontsize = 'large')\n",
    "\n",
    "plt.show()"
   ]
  },
  {
   "cell_type": "code",
   "execution_count": null,
   "metadata": {
    "collapsed": true
   },
   "outputs": [],
   "source": []
  }
 ],
 "metadata": {
  "kernelspec": {
   "display_name": "Python 3",
   "language": "python",
   "name": "python3"
  },
  "language_info": {
   "codemirror_mode": {
    "name": "ipython",
    "version": 3
   },
   "file_extension": ".py",
   "mimetype": "text/x-python",
   "name": "python",
   "nbconvert_exporter": "python",
   "pygments_lexer": "ipython3",
   "version": "3.6.2"
  }
 },
 "nbformat": 4,
 "nbformat_minor": 2
}
